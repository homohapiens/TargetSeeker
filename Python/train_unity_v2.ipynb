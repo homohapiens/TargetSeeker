{
 "cells": [
  {
   "cell_type": "markdown",
   "metadata": {
    "id": "P-r_cB2rqp5x"
   },
   "source": [
    "### Import dependencies"
   ]
  },
  {
   "cell_type": "code",
   "execution_count": 55,
   "metadata": {
    "id": "YSf-WhxbqtLw"
   },
   "outputs": [],
   "source": [
    "import os\n",
    "import shutil\n",
    "import time\n",
    "import numpy as np\n",
    "\n",
    "from pathlib import Path\n",
    "from typing import Callable, Any\n",
    "\n",
    "import hydra\n",
    "from omegaconf import DictConfig, OmegaConf\n",
    "\n",
    "import gym\n",
    "from gym import Env\n",
    "\n",
    "from stable_baselines3 import PPO\n",
    "from stable_baselines3.common.vec_env import VecMonitor, VecEnv, SubprocVecEnv, DummyVecEnv\n",
    "from stable_baselines3.common.callbacks import (\n",
    "    BaseCallback,\n",
    "    CheckpointCallback,\n",
    "    CallbackList,\n",
    "    EveryNTimesteps\n",
    ")\n",
    "from stable_baselines3.common.results_plotter import ts2xy, load_results\n",
    "\n",
    "from supersuit import observation_lambda_v0\n",
    "\n",
    "from mlagents_envs.environment import UnityEnvironment\n",
    "from gym_unity.envs import UnityToGymWrapper\n",
    "from mlagents_envs.registry import UnityEnvRegistry, default_registry\n",
    "from mlagents_envs.side_channel.engine_configuration_channel import (\n",
    "    EngineConfig,\n",
    "    EngineConfigurationChannel,\n",
    ")\n",
    "from mlagents_envs.side_channel.environment_parameters_channel import EnvironmentParametersChannel"
   ]
  },
  {
   "cell_type": "markdown",
   "metadata": {},
   "source": [
    "### Load Environment, Engine and Model Configurations"
   ]
  },
  {
   "cell_type": "code",
   "execution_count": 59,
   "metadata": {},
   "outputs": [],
   "source": [
    "GLOBAL_CONFIG = None\n",
    "with hydra.initialize(config_path='config'):\n",
    "    GLOBAL_CONFIG = hydra.compose(\n",
    "        config_name='config.yaml',\n",
    "        overrides=[]\n",
    "    )\n",
    "\n",
    "# Assign configs\n",
    "ENGINE_CONFIG = EngineConfig(**GLOBAL_CONFIG.engine)\n",
    "ENV_CONFIG = GLOBAL_CONFIG.environment\n",
    "MODEL_CONFIG = GLOBAL_CONFIG.model\n",
    "\n",
    "# print(OmegaConf.to_yaml(GLOBAL_CONFIG))"
   ]
  },
  {
   "cell_type": "markdown",
   "metadata": {},
   "source": [
    "### Unity Environment SB3"
   ]
  },
  {
   "cell_type": "code",
   "execution_count": 3,
   "metadata": {},
   "outputs": [],
   "source": [
    "def _unity_env_from_path_or_registry(\n",
    "    env: str, registry: UnityEnvRegistry, **kwargs: Any\n",
    ") -> UnityEnvironment:\n",
    "    env_file_exists = Path(f'{env}.exe').expanduser().absolute().exists() or \\\n",
    "                      Path(f'{env}.x86_64').expanduser().absolute().exists() or \\\n",
    "                      Path(env).expanduser().absolute().exists()\n",
    "    if env_file_exists:\n",
    "        return UnityEnvironment(file_name=env, **kwargs)\n",
    "    elif env in registry:\n",
    "        return registry.get(env).make(**kwargs)\n",
    "    else:\n",
    "        raise ValueError(f\"Environment '{env}' wasn't a local path or registry entry\")\n",
    "        \n",
    "def make_mla_sb3_env(config: DictConfig, **kwargs: Any) -> VecEnv:\n",
    "    def handle_obs(obs, space):\n",
    "        if isinstance(space, gym.spaces.Tuple):\n",
    "            if len(space) == 1:\n",
    "                return obs[0]\n",
    "            # Turn the tuple into a dict (stable baselines can handle spaces.Dict but not spaces.Tuple).\n",
    "            return {str(i): v for i, v in enumerate(obs)}\n",
    "        return obs\n",
    "\n",
    "    def handle_obs_space(space):\n",
    "        if isinstance(space, gym.spaces.Tuple):\n",
    "            if len(space) == 1:\n",
    "                return space[0]\n",
    "            # Turn the tuple into a dict (stable baselines can handle spaces.Dict but not spaces.Tuple).\n",
    "            return gym.spaces.Dict({str(i): v for i, v in enumerate(space)})\n",
    "        return space\n",
    "\n",
    "    def create_env(env: str, worker_id: int) -> Callable[[], Env]:\n",
    "        def _f() -> Env:\n",
    "            engine_configuration_channel = EngineConfigurationChannel()\n",
    "            engine_configuration_channel.set_configuration(ENGINE_CONFIG)\n",
    "            # Unity environment parameters \n",
    "            environment_configuration_channel = EnvironmentParametersChannel()\n",
    "            environment_configuration_channel.set_float_parameter('agent_level', config.agent_level)\n",
    "            kwargs[\"side_channels\"] = kwargs.get(\"side_channels\", []) + [\n",
    "                engine_configuration_channel,\n",
    "                environment_configuration_channel\n",
    "            ]\n",
    "            unity_env = _unity_env_from_path_or_registry(\n",
    "                env=env,\n",
    "                registry=default_registry,\n",
    "                worker_id=worker_id,\n",
    "                base_port=config.base_port,\n",
    "                seed=config.base_seed + worker_id,\n",
    "                **kwargs,\n",
    "            )\n",
    "            new_env = UnityToGymWrapper(\n",
    "                unity_env=unity_env,\n",
    "                uint8_visual=config.visual_obs,\n",
    "                allow_multiple_obs=config.allow_multiple_obs,\n",
    "            )\n",
    "            new_env = observation_lambda_v0(new_env, handle_obs, handle_obs_space)\n",
    "            return new_env\n",
    "\n",
    "        return _f\n",
    "\n",
    "    env_facts = [\n",
    "        create_env(config.env_path, worker_id=x) for x in range(config.num_env)\n",
    "    ]\n",
    "    return SubprocVecEnv(env_facts)"
   ]
  },
  {
   "cell_type": "markdown",
   "metadata": {},
   "source": [
    "### Custom Callbacks"
   ]
  },
  {
   "cell_type": "code",
   "execution_count": 4,
   "metadata": {},
   "outputs": [],
   "source": [
    "class TensorboardCallback(BaseCallback):\n",
    "    \"\"\"\n",
    "    Custom callback for plotting additional values in tensorboard.\n",
    "    \"\"\"\n",
    "\n",
    "    def __init__(self, verbose=0):\n",
    "        super(TensorboardCallback, self).__init__(verbose)\n",
    "\n",
    "    def _on_step(self) -> bool:\n",
    "        # Log scalar value (here a random variable)\n",
    "        value = np.random.random()\n",
    "        self.logger.record('z_value', value)\n",
    "        return True\n",
    "\n",
    "class SummaryCallback(BaseCallback):\n",
    "    \"\"\"\n",
    "    Summary callback for printing values on console.\n",
    "    \"\"\"\n",
    "\n",
    "    def __init__(self, verbose=0, n_episodes=100, log_dir=None):\n",
    "        super(SummaryCallback, self).__init__(verbose)\n",
    "        self.n_episodes = n_episodes\n",
    "        self.log_dir = log_dir\n",
    "\n",
    "    def _on_training_start(self) -> None:\n",
    "        print('Started Training...')\n",
    "        self.start_time = time.time()\n",
    "\n",
    "    def _on_step(self) -> bool:\n",
    "        # Log scalar value (here a random variable)\n",
    "        x, y = ts2xy(load_results(self.log_dir), 'timesteps')\n",
    "        mean_reward = np.mean(y[-self.n_episodes:])\n",
    "        std_reward = np.std(y[-self.n_episodes:])\n",
    "        \n",
    "        print(f'Step {self.num_timesteps}, \\\n",
    "        Time Elapsed {time.time()-self.start_time:.3f}s, \\\n",
    "        Mean Reward {mean_reward:.3f}, \\\n",
    "        Std Reward {std_reward:.3f}')\n",
    "        \n",
    "        return True"
   ]
  },
  {
   "cell_type": "markdown",
   "metadata": {},
   "source": [
    "### Schedulers"
   ]
  },
  {
   "cell_type": "code",
   "execution_count": 10,
   "metadata": {},
   "outputs": [],
   "source": [
    "def scheduler(initial_value: float, schedule: str) -> Callable[[float], float]:\n",
    "    \n",
    "    if schedule == 'linear':\n",
    "        def func(progress_remaining: float) -> float:\n",
    "            return progress_remaining * initial_value\n",
    "    elif schedule == 'constant':\n",
    "        def func(progress_remaining: float) -> float:\n",
    "            return initial_value\n",
    "    else:\n",
    "        raise NameError(f'Invalid schedule: {schedule}!')\n",
    "    return func\n",
    "\n",
    "\n",
    "def check_valid_run_id(run_id, force=False):\n",
    "    dir_path = f'results/{run_id}'\n",
    "    if os.path.isdir(dir_path):\n",
    "        if force:\n",
    "            shutil.rmtree(dir_path)\n",
    "        else:\n",
    "            raise\n",
    "    os.mkdir(dir_path)\n",
    "\n",
    "def close_envs():\n",
    "    try:\n",
    "        env.close()\n",
    "    except:\n",
    "        pass\n",
    "    finally:\n",
    "        print(\"Closed environment\")\n",
    "\n",
    "def save_model():\n",
    "    os.rename(f'results/{run_id}/TB_Logs_1', f'results/{run_id}/TB_Logs')\n",
    "    model.save(f'results/{run_id}/TargetSeeker')\n",
    "    print(\"Saved model\")"
   ]
  },
  {
   "cell_type": "markdown",
   "metadata": {},
   "source": [
    "### Start Environment"
   ]
  },
  {
   "cell_type": "code",
   "execution_count": 15,
   "metadata": {
    "pycharm": {
     "is_executing": true,
     "name": "#%%\n"
    },
    "tags": []
   },
   "outputs": [
    {
     "name": "stdout",
     "output_type": "stream",
     "text": [
      "Closed environment\n",
      "Started Environment\n"
     ]
    }
   ],
   "source": [
    "run_id = 'test_run_0'\n",
    "force = True\n",
    "\n",
    "close_envs()\n",
    "env = make_mla_sb3_env(\n",
    "    config=ENV_CONFIG,\n",
    "    no_graphics=True,  # Set to false if you are running locally and want to watch the environments move around as they train.\n",
    ")\n",
    "print('Started Environment')\n",
    "\n",
    "# Validate run-id\n",
    "check_valid_run_id(run_id, force)\n",
    "\n",
    "# Helps gather stats for our eval() calls later so we can see reward stats.\n",
    "env = VecMonitor(env, filename=f'results/{run_id}/')"
   ]
  },
  {
   "cell_type": "markdown",
   "metadata": {},
   "source": [
    "### Create the model"
   ]
  },
  {
   "cell_type": "code",
   "execution_count": 16,
   "metadata": {
    "pycharm": {
     "is_executing": true,
     "name": "#%%\n"
    }
   },
   "outputs": [],
   "source": [
    "TOTAL_TAINING_STEPS_GOAL = MODEL_CONFIG.buffer_size * MODEL_CONFIG.updates\n",
    "STEPS_PER_UPDATE = MODEL_CONFIG.buffer_size / ENV_CONFIG.num_env\n",
    "\n",
    "#Policy and Value function with 2 layers of 128 units each and no shared layers.\n",
    "policy_kwargs = {\"net_arch\" : [{\n",
    "    \"pi\": list(MODEL_CONFIG.PI), \n",
    "    \"vf\": list(MODEL_CONFIG.VF)\n",
    "}]}\n",
    "\n",
    "model = PPO(\n",
    "    \"MlpPolicy\",\n",
    "    env,\n",
    "    verbose=0,\n",
    "    learning_rate=scheduler(**MODEL_CONFIG.learning_rate),\n",
    "    clip_range=scheduler(**MODEL_CONFIG.clip_range),\n",
    "    clip_range_vf=scheduler(**MODEL_CONFIG.clip_range_vf),\n",
    "    tensorboard_log=f'results/{run_id}',\n",
    "    policy_kwargs=policy_kwargs,\n",
    "    n_steps=int(STEPS_PER_UPDATE),\n",
    "    batch_size=MODEL_CONFIG.batch_size,\n",
    "    n_epochs=MODEL_CONFIG.n_epochs,\n",
    "    ent_coef=MODEL_CONFIG.beta,\n",
    ")\n",
    "\n",
    "# Callbacks\n",
    "tb_callback = TensorboardCallback()\n",
    "checkpoint_callback = CheckpointCallback(save_freq=max(int(ENV_CONFIG.check_point_freq/ENV_CONFIG.num_env),1), save_path=f'results/{run_id}/Checkpoints/',\n",
    "                                         name_prefix='TargetSeeker')\n",
    "summary_callback = EveryNTimesteps(n_steps=ENV_CONFIG.summary_freq, callback=SummaryCallback(n_episodes=100, log_dir=f'results/{run_id}'))\n",
    "\n",
    "# Chain all callbacks\n",
    "callbacks = CallbackList([tb_callback, checkpoint_callback, summary_callback])"
   ]
  },
  {
   "cell_type": "markdown",
   "metadata": {},
   "source": [
    "### Train the model"
   ]
  },
  {
   "cell_type": "code",
   "execution_count": null,
   "metadata": {
    "pycharm": {
     "is_executing": true,
     "name": "#%%\n"
    },
    "tags": []
   },
   "outputs": [
    {
     "name": "stdout",
     "output_type": "stream",
     "text": [
      "Started Training...\n",
      "Step 10000,         Time Elapsed 7.106s,         Mean Reward -0.944,         Std Reward 0.475\n",
      "Step 20000,         Time Elapsed 14.191s,         Mean Reward -1.043,         Std Reward 0.194\n",
      "Step 30000,         Time Elapsed 21.423s,         Mean Reward -0.948,         Std Reward 0.478\n",
      "Step 40000,         Time Elapsed 28.572s,         Mean Reward -0.981,         Std Reward 0.439\n",
      "Training Interrupted!\n",
      "Saved model\n"
     ]
    }
   ],
   "source": [
    "# Start training\n",
    "try:\n",
    "    model.learn(total_timesteps=TOTAL_TAINING_STEPS_GOAL, reset_num_timesteps=True, callback=callbacks, tb_log_name='TB_Logs')\n",
    "except:\n",
    "    print('Training Interrupted!')\n",
    "else:\n",
    "    print('...Finished Training')    \n",
    "finally:\n",
    "    save_model()\n",
    "    close_envs()\n"
   ]
  },
  {
   "cell_type": "markdown",
   "metadata": {
    "id": "h1lIx3_l24OP"
   },
   "source": [
    "### Close the environment\n",
    "Frees up the ports being used."
   ]
  },
  {
   "cell_type": "code",
   "execution_count": null,
   "metadata": {
    "id": "vdWG6_SqtNtv",
    "pycharm": {
     "is_executing": true,
     "name": "#%%\n"
    }
   },
   "outputs": [],
   "source": [
    "close_envs()"
   ]
  }
 ],
 "metadata": {
  "colab": {
   "collapsed_sections": [],
   "name": "Colab-UnityEnvironment-1-Run.ipynb",
   "private_outputs": true,
   "provenance": [],
   "toc_visible": true
  },
  "kernelspec": {
   "display_name": "Python (mla-gym)",
   "language": "python",
   "name": "mla-gym"
  },
  "language_info": {
   "codemirror_mode": {
    "name": "ipython",
    "version": 3
   },
   "file_extension": ".py",
   "mimetype": "text/x-python",
   "name": "python",
   "nbconvert_exporter": "python",
   "pygments_lexer": "ipython3",
   "version": "3.9.7"
  }
 },
 "nbformat": 4,
 "nbformat_minor": 4
}
